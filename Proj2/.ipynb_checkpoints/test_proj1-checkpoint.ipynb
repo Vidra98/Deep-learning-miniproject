{
 "cells": [
  {
   "cell_type": "markdown",
   "metadata": {},
   "source": [
    "# Testing the created framework"
   ]
  },
  {
   "cell_type": "code",
   "execution_count": 53,
   "metadata": {},
   "outputs": [
    {
     "name": "stdout",
     "output_type": "stream",
     "text": [
      "The autoreload extension is already loaded. To reload it, use:\n",
      "  %reload_ext autoreload\n"
     ]
    }
   ],
   "source": [
    "from utils import *\n",
    "from MSELoss import MSELoss\n",
    "import torch\n",
    "import seaborn as sns\n",
    "%load_ext autoreload\n",
    "%autoreload 2"
   ]
  },
  {
   "cell_type": "markdown",
   "metadata": {},
   "source": [
    "## Load dataset"
   ]
  },
  {
   "cell_type": "code",
   "execution_count": 54,
   "metadata": {},
   "outputs": [],
   "source": [
    "train_set, train_target = generate_disc_set(2500)\n",
    "test_set, test_target = generate_disc_set(2500)"
   ]
  },
  {
   "cell_type": "code",
   "execution_count": 55,
   "metadata": {},
   "outputs": [
    {
     "data": {
      "image/png": "[encoded data removed]",
      "text/plain": [
       "<Figure size 432x288 with 1 Axes>"
      ]
     },
     "metadata": {
      "needs_background": "light"
     },
     "output_type": "display_data"
    }
   ],
   "source": [
    "plt.plot(train_set,'ro')\n",
    "plt.show()"
   ]
  },
  {
   "cell_type": "markdown",
   "metadata": {},
   "source": [
    "## Create a model & test forward"
   ]
  },
  {
   "cell_type": "code",
   "execution_count": 56,
   "metadata": {},
   "outputs": [],
   "source": [
    "model = create_model()\n",
    "output = model.forward(train_set,no_grad=True)"
   ]
  },
  {
   "cell_type": "markdown",
   "metadata": {},
   "source": [
    "## Test the backward and no_grad"
   ]
  },
  {
   "cell_type": "markdown",
   "metadata": {},
   "source": [
    "### No_grad"
   ]
  },
  {
   "cell_type": "code",
   "execution_count": 57,
   "metadata": {},
   "outputs": [],
   "source": [
    "criterion = MSELoss()\n",
    "output = model.forward(train_set,no_grad=True)\n",
    "loss = criterion.forward(output,train_target)\n",
    "grdwrtoutput = criterion.backward()"
   ]
  },
  {
   "cell_type": "code",
   "execution_count": 58,
   "metadata": {},
   "outputs": [
    {
     "data": {
      "text/plain": [
       "'Tanh : Forward step has not been performed'"
      ]
     },
     "execution_count": 58,
     "metadata": {},
     "output_type": "execute_result"
    }
   ],
   "source": [
    "model.backward(grdwrtoutput)"
   ]
  },
  {
   "cell_type": "markdown",
   "metadata": {},
   "source": [
    "### backward with grad"
   ]
  },
  {
   "cell_type": "code",
   "execution_count": 59,
   "metadata": {},
   "outputs": [],
   "source": [
    "output = model.forward(train_set,no_grad=False)\n",
    "loss = criterion.forward(output,train_target)\n",
    "grdwrtoutput = criterion.backward()"
   ]
  },
  {
   "cell_type": "code",
   "execution_count": 60,
   "metadata": {},
   "outputs": [],
   "source": [
    "model.backward(grdwrtoutput)"
   ]
  },
  {
   "cell_type": "markdown",
   "metadata": {},
   "source": [
    "### Check the shapes of the gradients "
   ]
  },
  {
   "cell_type": "code",
   "execution_count": 61,
   "metadata": {},
   "outputs": [
    {
     "name": "stdout",
     "output_type": "stream",
     "text": [
      "torch.Size([16, 3])\n",
      "torch.Size([16, 17])\n",
      "torch.Size([16, 17])\n",
      "torch.Size([16, 17])\n",
      "torch.Size([1, 17])\n"
     ]
    }
   ],
   "source": [
    "for module in model.sequence:\n",
    "    if len(module.params) != 0:\n",
    "        print(module.params[1].shape)"
   ]
  },
  {
   "cell_type": "markdown",
   "metadata": {},
   "source": [
    "# Try to train a model "
   ]
  },
  {
   "cell_type": "code",
   "execution_count": 92,
   "metadata": {},
   "outputs": [],
   "source": [
    "model = create_model()\n",
    "train_my_model(model,train_set,train_target,epochs=25)"
   ]
  },
  {
   "cell_type": "code",
   "execution_count": 93,
   "metadata": {},
   "outputs": [],
   "source": [
    "accuracy_train = compute_nb_errors(model,test_set,test_target)\n",
    "accuracy_test = compute_nb_errors(model,train_set,train_target)"
   ]
  },
  {
   "cell_type": "code",
   "execution_count": 94,
   "metadata": {},
   "outputs": [
    {
     "name": "stdout",
     "output_type": "stream",
     "text": [
      "accuracy on train set =  93.0\n",
      "accuracy on test set =  93.6\n"
     ]
    }
   ],
   "source": [
    "print(\"accuracy on train set = \",round(accuracy_train,1))\n",
    "print(\"accuracy on test set = \",round(accuracy_test,1))"
   ]
  },
  {
   "cell_type": "markdown",
   "metadata": {},
   "source": [
    "## Visualization "
   ]
  },
  {
   "cell_type": "code",
   "execution_count": 67,
   "metadata": {},
   "outputs": [],
   "source": [
    "X = torch.linspace(0,1,100)\n",
    "Y = torch.linspace(0,1,100)\n",
    "grid_x, grid_y = torch.meshgrid(X,Y)\n",
    "grid_x_vector = grid_x.reshape(-1,1)\n",
    "grid_y_vector = grid_y.reshape(-1,1)\n",
    "inputs = torch.cat((grid_x_vector,grid_y_vector),dim=1)\n",
    "predicted = model.forward(inputs,no_grad=True)\n",
    "predicted = predicted.reshape(grid_x.shape[0],-1)"
   ]
  },
  {
   "cell_type": "code",
   "execution_count": 70,
   "metadata": {},
   "outputs": [
    {
     "name": "stdout",
     "output_type": "stream",
     "text": [
      "tensor([[-0.9900]])\n"
     ]
    }
   ],
   "source": [
    "point = torch.tensor([[1,0.5]])\n",
    "output = model.forward(point,no_grad=True)\n",
    "print(output)"
   ]
  },
  {
   "cell_type": "markdown",
   "metadata": {},
   "source": [
    "## Analysis"
   ]
  },
  {
   "cell_type": "markdown",
   "metadata": {},
   "source": [
    "There are 2.4% of samples outside the circle. Therefore, a model outputting \"inside\" everytime will achieve an error of 2.4% in expectation. The above results are very bad in the sense that they often do worse than a (specific) random policy. <br> This is expected using a mean-squares loss."
   ]
  },
  {
   "cell_type": "markdown",
   "metadata": {},
   "source": [
    "Sometimes, the gradients seem to be stuck at zero (no change over epochs).\n",
    "Generally, there is a great deal of randomness in the results. <br>\n",
    "Also, a good learning rate seems to be somewhere slightly below 1e-3."
   ]
  },
  {
   "cell_type": "markdown",
   "metadata": {},
   "source": [
    "mini_batch_size shouldn't be too small, since there are very few samples outside the disk and we don't want this number to be 0 inside a mini batch."
   ]
  }
 ],
 "metadata": {
  "kernelspec": {
   "display_name": "Python 3",
   "language": "python",
   "name": "python3"
  },
  "language_info": {
   "codemirror_mode": {
    "name": "ipython",
    "version": 3
   },
   "file_extension": ".py",
   "mimetype": "text/x-python",
   "name": "python",
   "nbconvert_exporter": "python",
   "pygments_lexer": "ipython3",
   "version": "3.6.12"
  }
 },
 "nbformat": 4,
 "nbformat_minor": 4
}
