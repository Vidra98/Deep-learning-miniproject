{
 "cells": [
  {
   "cell_type": "markdown",
   "metadata": {},
   "source": [
    "## Testing the created framework"
   ]
  },
  {
   "cell_type": "code",
   "execution_count": null,
   "metadata": {},
   "outputs": [],
   "source": [
    "from test import *"
   ]
  },
  {
   "cell_type": "code",
   "execution_count": null,
   "metadata": {},
   "outputs": [],
   "source": [
    "train_set, train_target = generate_disc_set(2500)\n",
    "test_set, test_target = generate_disc_set(2500)\n",
    "model = create_model()\n",
    "train_model(model, train_set, train_target, test_set, test_target, \n",
    "            mini_batch_size=500,nb_epochs = 300, lr = 5e-4, \n",
    "            create_plot = True)"
   ]
  },
  {
   "cell_type": "markdown",
   "metadata": {},
   "source": [
    "## Analysis"
   ]
  },
  {
   "cell_type": "markdown",
   "metadata": {},
   "source": [
    "There are 2.4% of samples outside the circle. Therefore, a model outputting \"inside\" everytime will achieve an error of 2.4% in expectation. The above results are very bad in the sense that they often do worse than a (specific) random policy. <br> This is expected using a mean-squares loss."
   ]
  },
  {
   "cell_type": "markdown",
   "metadata": {},
   "source": [
    "Sometimes, the gradients seem to be stuck at zero (no change over epochs).\n",
    "Generally, there is a great deal of randomness in the results. <br>\n",
    "Also, a good learning rate seems to be somewhere slightly below 1e-3."
   ]
  },
  {
   "cell_type": "markdown",
   "metadata": {},
   "source": [
    "mini_batch_size shouldn't be too small, since there are very few samples outside the disk and we don't want this number to be 0 inside a mini batch."
   ]
  },
  {
   "cell_type": "code",
   "execution_count": null,
   "metadata": {},
   "outputs": [],
   "source": []
  }
 ],
 "metadata": {
  "kernelspec": {
   "display_name": "Python 3",
   "language": "python",
   "name": "python3"
  },
  "language_info": {
   "codemirror_mode": {
    "name": "ipython",
    "version": 3
   },
   "file_extension": ".py",
   "mimetype": "text/x-python",
   "name": "python",
   "nbconvert_exporter": "python",
   "pygments_lexer": "ipython3",
   "version": "3.9.0"
  }
 },
 "nbformat": 4,
 "nbformat_minor": 4
}
