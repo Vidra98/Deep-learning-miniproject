{
 "cells": [
  {
   "cell_type": "code",
   "execution_count": 2,
   "id": "particular-hours",
   "metadata": {},
   "outputs": [],
   "source": [
    "from dlc_practical_prologue import generate_pair_sets\n",
    "import torch\n",
    "import torchvision.transforms as transform\n",
    "import matplotlib.pyplot as plt\n",
    "load=5000\n",
    "data = generate_pair_sets(load)"
   ]
  },
  {
   "cell_type": "code",
   "execution_count": 3,
   "id": "medium-whale",
   "metadata": {},
   "outputs": [],
   "source": [
    "train_input, train_target, train_classes = data[0], data[1], data[2]\n",
    "test_input, test_target, test_classes = data[3], data[4], data[5]"
   ]
  },
  {
   "cell_type": "code",
   "execution_count": 4,
   "id": "approximate-preliminary",
   "metadata": {},
   "outputs": [
    {
     "name": "stdout",
     "output_type": "stream",
     "text": [
      "torch.Size([5000, 2, 14, 14])\n",
      "torch.Size([5000])\n",
      "torch.Size([5000, 2])\n"
     ]
    }
   ],
   "source": [
    "print (train_input.shape)\n",
    "print (train_target.shape)\n",
    "print(train_classes.shape)"
   ]
  },
  {
   "cell_type": "code",
   "execution_count": 38,
   "id": "collectible-convergence",
   "metadata": {},
   "outputs": [
    {
     "data": {
      "text/plain": [
       "<matplotlib.image.AxesImage at 0x7fee66a42850>"
      ]
     },
     "execution_count": 38,
     "metadata": {},
     "output_type": "execute_result"
    },
    {
     "data": {
      "image/png": "[encoded data removed]",
      "text/plain": [
       "<Figure size 432x288 with 1 Axes>"
      ]
     },
     "metadata": {
      "needs_background": "light"
     },
     "output_type": "display_data"
    }
   ],
   "source": [
    "train_input[0,0,:,:]=255\n",
    "train_input[0,0,4:8,4:8]=0\n",
    "\n",
    "scale=transform.RandomAffine(20,scale=(0.6,1.4))\n",
    "rotation=transform.RandomRotation((-30,30))\n",
    "erasing=transform.RandomErasing(p=1, scale=(0.12, 0.12), ratio=(0.1, 1))\n",
    "x=scale(train_input)\n",
    "#x=rotation(train_input)\n",
    "#x=erasing(train_input)\n",
    "plt.imshow(x[0,0,:,:], cmap='gray')"
   ]
  },
  {
   "cell_type": "code",
   "execution_count": null,
   "id": "seasonal-aruba",
   "metadata": {},
   "outputs": [],
   "source": []
  },
  {
   "cell_type": "code",
   "execution_count": null,
   "id": "established-transsexual",
   "metadata": {},
   "outputs": [],
   "source": []
  }
 ],
 "metadata": {
  "kernelspec": {
   "display_name": "Python 3",
   "language": "python",
   "name": "python3"
  },
  "language_info": {
   "codemirror_mode": {
    "name": "ipython",
    "version": 3
   },
   "file_extension": ".py",
   "mimetype": "text/x-python",
   "name": "python",
   "nbconvert_exporter": "python",
   "pygments_lexer": "ipython3",
   "version": "3.8.5"
  }
 },
 "nbformat": 4,
 "nbformat_minor": 5
}
